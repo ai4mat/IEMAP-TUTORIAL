{
 "cells": [
  {
   "cell_type": "markdown",
   "id": "66ce7638-72f8-4ce2-8b61-981504694999",
   "metadata": {},
   "source": [
    "# IEMAP TUTORIAL\n",
    "**Python example code to use as a walkthrough in using iemap API** <br/> \n",
    "<img src=\"https://iemap-api.readthedocs.io/en/latest/_static/iemap_logo_nobg.png\"></img>\n",
    "### Full documentation is available [here](https://iemap-api.readthedocs.io/en/latest/index.html)\n",
    "> Note. API and its documentation is still in development. For any issue please report at ... "
   ]
  },
  {
   "cell_type": "markdown",
   "id": "d7a7e7c7-8874-4343-83e7-38805ad1c0ef",
   "metadata": {},
   "source": [
    "## Important notes before starting\n",
    "- IEMAP API are implemented by a REST API architecture build-up by some endpoints that require authentication\n",
    "- **Prior to using IEMAP API users need to register [here](https://ai4mat.enea.it/dashboard/)**\n",
    "- It is possible to upload the project's metadata and files using the user interface (UI) at the link above or use the python module here described (**account registration is available only using the UI)**\n",
    "- The UI at the link above is temporary, a more complete and functional interface is in "
   ]
  },
  {
   "cell_type": "markdown",
   "id": "330f5ad3-07b1-4a07-9f58-f3f5bcf7f596",
   "metadata": {},
   "source": [
    ">## Install IEMAP Python module using `pip install iemap` \n",
    "**Python version >= 3.9 is required**"
   ]
  },
  {
   "cell_type": "code",
   "execution_count": null,
   "id": "d54fcaca-0396-4a55-8f67-bb1bf4619374",
   "metadata": {},
   "outputs": [],
   "source": [
    "# You can install within jupyter notebook using\n",
    "# if this is a first installation\n",
    "# ! pip install iemap\n",
    "# or to upgrade to latest release\n",
    "# ! pip install --upgrade  iemap"
   ]
  },
  {
   "cell_type": "code",
   "execution_count": null,
   "id": "a7843e68-f9ec-4c50-9ba0-84d9c7219e38",
   "metadata": {},
   "outputs": [],
   "source": [
    "# import usefull modules\n",
    "import json\n",
    "import getpass\n",
    "from IPython.display import display\n",
    "import pandas as pd\n",
    "from pprint import pprint\n",
    "# import IEMAP module\n",
    "from iemap import IEMAP"
   ]
  },
  {
   "cell_type": "code",
   "execution_count": null,
   "id": "fdc27359-9004-4252-8416-f28b3ee3f2d9",
   "metadata": {},
   "outputs": [],
   "source": [
    "# To show the installed version of iemap module\n",
    "!pip show iemap"
   ]
  },
  {
   "cell_type": "markdown",
   "id": "e8b55e92-8ded-414d-b6f6-964910464619",
   "metadata": {},
   "source": [
    "- ### Step 1 - define account and login \n",
    "> **This is a mandatory step**, if you don't have an account yet register [here](https://ai4mat.enea.it/dashboard/)."
   ]
  },
  {
   "cell_type": "code",
   "execution_count": null,
   "id": "4afda0f0-3ac5-4ae4-ab0f-e3b545b39d5c",
   "metadata": {},
   "outputs": [],
   "source": [
    "# define user credentials\n",
    "user=\"user@enea.it\"\n",
    "print(f\"\\nType password for user: {user}\")\n",
    "# type in your password in a masked input field\n",
    "pwd=getpass.getpass()\n",
    "api = IEMAP(user,pwd)\n",
    "# login \n",
    "api.login()"
   ]
  },
  {
   "cell_type": "markdown",
   "id": "b1ffa4fa-fb73-4aca-9415-d3e469974426",
   "metadata": {},
   "source": [
    "- ### Step 2 - Start defining a new project metadata\n",
    "> Project metadata have to be provided using a JSON file or python dict with a \"valid\" schema as defined below\n",
    "<!-- <img src=\"schema1.jpg\" style=\"width:600px\"/> -->"
   ]
  },
  {
   "cell_type": "markdown",
   "id": "3687f336-4514-4401-bbec-666fbf649033",
   "metadata": {},
   "source": [
    "![schema1](schema1.png)"
   ]
  },
  {
   "cell_type": "markdown",
   "id": "8429436e-e2a3-45f3-9d4d-a6c2b5fde68c",
   "metadata": {},
   "source": [
    "> #### Note that   \n",
    "> - Main fields are: projects*,material*, process*, parameters, properties   \n",
    "> - \"project\" is build up by \"name\" and \"label\", both strings (\"name\" is required)   \n",
    "> - \"material\" is an object with several sub-fields, the only required is \"formula\"\n",
    "> - \"material\" **<sup>1</sup>** has subfields\"input\" and \"output\" both having a nested object made up by \"cell\" (List of List), \"lattice\" (Object/Dict), \"sites\" (List of List) and \"species\" (List) \n",
    "> - \"process\" is an object with fields \"method\" and \"isExperiment\" mandatory\n",
    "> - \"parameters\" and \"properties\" are both a List of objects made up by two fields \"name\"(string)  and \"value\"(string or numeric)\n",
    "\n",
    "> ***denotes mandatory fields**\n",
    "> **<sup>1</sup>** more on this in the example_metadata below"
   ]
  },
  {
   "cell_type": "markdown",
   "id": "212e3c93-1be9-4c23-9fc3-1b020580492d",
   "metadata": {},
   "source": [
    "- ### Step 3 - Familiarize with the required JSON schema"
   ]
  },
  {
   "cell_type": "code",
   "execution_count": null,
   "id": "a931b9bb-52f9-43b0-b4e5-28f3598ebf54",
   "metadata": {},
   "outputs": [],
   "source": [
    "# load json example metadata\n",
    "# Opening JSON file\n",
    "f = open(\"metadata_example.json\")\n",
    "example_metadata = json.load(f)"
   ]
  },
  {
   "cell_type": "code",
   "execution_count": null,
   "id": "4775cb1c-8896-452d-8cec-e2296118a2ad",
   "metadata": {},
   "outputs": [],
   "source": [
    "pprint(example_metadata)"
   ]
  },
  {
   "cell_type": "code",
   "execution_count": null,
   "id": "3c23c30b-517f-4da0-bdc4-c1a1c5541573",
   "metadata": {},
   "outputs": [],
   "source": [
    "# You can check if metadata has a valid schema with the code below\n",
    "api.metadata=example_metadata\n",
    "print(\"Metadata check passed\" if  not api.check_metadata() else \"Metadata check not passed\")"
   ]
  },
  {
   "cell_type": "code",
   "execution_count": null,
   "id": "ca164895-1389-4e96-ab0b-7ef203c7efe1",
   "metadata": {},
   "outputs": [],
   "source": [
    "# Check metadata again, this time removing a required field as project name\n",
    "example_metadata['project']['name']=None\n",
    "print(\"Metadata check passed\" if  not api.check_metadata() else \"Metadata check not passed\")"
   ]
  },
  {
   "cell_type": "code",
   "execution_count": null,
   "id": "d0eefa1a-e36c-4a2c-8f12-13d3c429d436",
   "metadata": {},
   "outputs": [],
   "source": [
    "# reset metadata before going on as it will be provided using a JSON file\n",
    "api.metadata=None"
   ]
  },
  {
   "cell_type": "markdown",
   "id": "fe20399f-927f-438b-9849-f6d57b342deb",
   "metadata": {},
   "source": [
    "- ### Step 4 - Save a new project \n",
    "> Having defined project metadata from a JSON file or as Python dict, to save it on DB use `.save` method.   \n",
    "> After succesfully saved a new project, the API return an ObjectID that uniquely define the saved project, this id can be retrieved later on using `.get_id()` method.   \n",
    "> No id is defined if not explicetly set with `.set_id()` or if no new project has been already saved."
   ]
  },
  {
   "cell_type": "code",
   "execution_count": null,
   "id": "61531b9f-c40a-451a-a3ea-08e7294e9f9d",
   "metadata": {},
   "outputs": [],
   "source": [
    "# save project metadata as defined in json file\n",
    "api.save(metadata='./metadata_example.json')"
   ]
  },
  {
   "cell_type": "markdown",
   "id": "f62f1daf-b85d-4881-97df-8ba298866d07",
   "metadata": {},
   "source": [
    "- ### Step 5 - Show current project id \n",
    "> **Initially, after login, no id is set**, so you can either:\n",
    "    1. use `.set_id` and provide a valid id (e.g. from table above)\n",
    "    2. use `.save`, this will save a new project with its metadata and, evenutally, its files. This will set the project as the current one with the id returned from DB.  \n",
    "    <br>\n",
    "    <br> \n",
    "    \n",
    "    **To add project files to a previosuly saved project use `save_project_files`**"
   ]
  },
  {
   "cell_type": "code",
   "execution_count": null,
   "id": "e0dfb39d-59aa-4de9-9df9-b06765928fa3",
   "metadata": {},
   "outputs": [],
   "source": [
    "# Show current project id\n",
    "api.get_id()"
   ]
  },
  {
   "cell_type": "markdown",
   "id": "8998bc73-ce7e-48e2-8af5-bbb781ca3e3d",
   "metadata": {},
   "source": [
    "### - Step 6 -Show user projects\n",
    "> Note, below are only example (random) data"
   ]
  },
  {
   "cell_type": "code",
   "execution_count": null,
   "id": "9f634e62-bd58-4afe-8454-c79d6531429e",
   "metadata": {},
   "outputs": [],
   "source": [
    "# show user saved projects\n",
    "api.my_projects()"
   ]
  },
  {
   "cell_type": "markdown",
   "id": "fbad14f0-dbf8-4497-88c1-83da399b4811",
   "metadata": {},
   "source": [
    "#### List projects in tabular format (Pandas DataFrame)"
   ]
  },
  {
   "cell_type": "code",
   "execution_count": null,
   "id": "d45dbbaa-9b27-4f29-8eb0-adae130f30a5",
   "metadata": {},
   "outputs": [],
   "source": [
    "df_proj=pd.DataFrame(api.my_projects())\n",
    "df_proj"
   ]
  },
  {
   "cell_type": "code",
   "execution_count": null,
   "id": "e81a9d7f-d441-457b-85d5-13207471937f",
   "metadata": {},
   "outputs": [],
   "source": [
    "# grab a valid project id from previous printed list and set one\n",
    "id_first_proj=df_proj.iloc[0,0]\n",
    "api.set_id(id_first_proj)"
   ]
  },
  {
   "cell_type": "code",
   "execution_count": null,
   "id": "09821b8f-3e15-4fc9-88f3-ddd1bd65278f",
   "metadata": {},
   "outputs": [],
   "source": [
    "# verify new id was correctly set\n",
    "api.get_id()"
   ]
  },
  {
   "cell_type": "markdown",
   "id": "8786a1eb-39e8-48e2-81a1-93b637022ac8",
   "metadata": {},
   "source": [
    "- ### Step 7 - Add project file to existing project\n",
    "> For each user project is possible to define one or more file to upload on Server.     \n",
    "> Note: **If the file to upload is already present on server then it is not actually over written (on file system) but it is added as field on database.<br/>A note stating \"(File already present on File System)\" in this case is diplayed.**   \n",
    "> **Only some file types are allowed as: PDF,CSV, XLS, XLSX, TXT, CIF or DOC.**"
   ]
  },
  {
   "cell_type": "code",
   "execution_count": null,
   "id": "066e592f-4fe6-4ee5-a16f-dd6fb9b5e210",
   "metadata": {},
   "outputs": [],
   "source": [
    "# add project file to a previously save project\n",
    "_= api.save_project_files(project_files=[\"../migration/BANDs/10_bandsdown.dat\"], show_debug_info=True)"
   ]
  },
  {
   "cell_type": "markdown",
   "id": "c2290afc-5399-4144-96d0-df4e631089ff",
   "metadata": {},
   "source": [
    "- ### Step 8 - Define a new project metadata (with its associated files in any)\n",
    "> You can save metadata and files in a unique step using `.save` and providing both ***metadata*** and ***list_proj_files***"
   ]
  },
  {
   "cell_type": "code",
   "execution_count": null,
   "id": "3cfbe306-175f-41e4-9fed-01f68c62051d",
   "metadata": {},
   "outputs": [],
   "source": [
    "# define a list of valid files path\n",
    "proj_files = [\"../migration/CIFs/10.cif\", \"../migration/BANDs/1_bandsdown.dat\"]\n",
    "\n",
    "# save project and file\n",
    "api.save(metadata=\"./metadata_example.json\", list_proj_files=proj_files, show_debug_info=True)"
   ]
  },
  {
   "cell_type": "markdown",
   "id": "20e2ede7-8cab-47a1-a993-2c66ca2dacf8",
   "metadata": {},
   "source": [
    "- ### Step 9 - Query a specific Project id\n",
    "> **All project and its id are available as showed at step 6**"
   ]
  },
  {
   "cell_type": "code",
   "execution_count": null,
   "id": "f2f7120f-ffcb-4c61-a9c0-48a8903afed7",
   "metadata": {},
   "outputs": [],
   "source": [
    "id_last_proj=df_proj.iloc[-1,0]\n",
    "data=api.query(id_last_proj)\n",
    "data"
   ]
  },
  {
   "cell_type": "markdown",
   "id": "e720ac2a-4792-4fc5-9f56-35b5376f3ff3",
   "metadata": {},
   "source": [
    "- ### Step 10 - Show ONLY files for a specific project"
   ]
  },
  {
   "cell_type": "code",
   "execution_count": null,
   "id": "b060ce28-b649-4d9f-a649-5054cb3ef429",
   "metadata": {},
   "outputs": [],
   "source": [
    "# project files\n",
    "if \"files\" in data[0]:\n",
    "    files_df=pd.json_normalize(data, record_path='files')\n",
    "    display(files_df)\n",
    "else:\n",
    "    print(f\"No files associated to project {data[0]['iemap_id']}\")"
   ]
  },
  {
   "cell_type": "markdown",
   "id": "42402a13-cdef-4e0b-ae0a-8da70128efa5",
   "metadata": {},
   "source": [
    "- ### Step 11  - Add project files to current project \n",
    "(or define another project id and add files to this new project id)"
   ]
  },
  {
   "cell_type": "code",
   "execution_count": null,
   "id": "72219b13-f14e-4971-81db-7eb020e0c5b0",
   "metadata": {},
   "outputs": [],
   "source": [
    "additional_files_proj = [\n",
    "    \"../migration/BANDs/1_bandsup.dat\",\n",
    "    \"../migration/BANDs/7_bandsup.dat\",\n",
    "    \"../migration/BANDs/1_bandsdown.dat\",\n",
    "    \"../migration/QE/0.out\",\n",
    "    \"../migration/QE/0.in\",\n",
    "    \"../migration/CIFs/10.cif\",\n",
    "]\n",
    "\n",
    "# save additional project files to current ID\n",
    "_ =api.save_project_files(project_files=additional_files_proj)"
   ]
  },
  {
   "cell_type": "markdown",
   "id": "6fdcefaa-d2c4-4cfe-be87-80025820c0af",
   "metadata": {},
   "source": [
    "### - Step 12 - Associate a file to a specific property of material inside a project\n",
    "> For each project is possible to associate one or more file related to the project as a whole,   \n",
    "but is also possible to upload a file associtaed to a specific property of the material used in the project   \n",
    "using `.save_property_files` and provinding as argument the property name and its related fiel as below"
   ]
  },
  {
   "cell_type": "code",
   "execution_count": null,
   "id": "a31f1d05-0fa8-4f07-983f-4ef49772518b",
   "metadata": {},
   "outputs": [],
   "source": [
    "# First Query a specific project\n",
    "\n",
    "result=api.query(id_first_proj)\n",
    "if result != []:\n",
    "    display(result[0][\"properties\"])"
   ]
  },
  {
   "cell_type": "code",
   "execution_count": null,
   "id": "c0b8aa16-1cd5-4fae-a6a7-3b50beaf9143",
   "metadata": {},
   "outputs": [],
   "source": [
    "# set the project id and the property to which associate a file\n",
    "api.set_id(id_first_proj)\n",
    "api.save_property_files({\"absolute_magnetization\": \"../migration/CIFs/0.cif\"}, show_debug_info=True)"
   ]
  },
  {
   "cell_type": "code",
   "execution_count": null,
   "id": "3ef291ad-71a0-455b-85a5-57e7a6336882",
   "metadata": {},
   "outputs": [],
   "source": [
    "# CHECK IF FILE HAS BEEN CORRECTLY ADDED\n",
    "dataExistingProj=api.query(id_first_proj)"
   ]
  },
  {
   "cell_type": "code",
   "execution_count": null,
   "id": "eee2c59c-c86b-4de0-a844-ea967abfe190",
   "metadata": {},
   "outputs": [],
   "source": [
    "if \"files\" in dataExistingProj[0]:\n",
    "    files_df=pd.json_normalize(dataExistingProj, record_path='files')\n",
    "    display(files_df)\n",
    "else:\n",
    "    print(f\"No files associated to project {data[0]['iemap_id']}\")"
   ]
  },
  {
   "cell_type": "markdown",
   "id": "8b75a80d-b8ae-4bdc-b654-4285201909c9",
   "metadata": {},
   "source": [
    "### - Step 10 - Download a project (property) file\n",
    "> Knowing the full file name = hash.ext is possible to download the file using `.download_file` (uploaded by the logged in user or not)"
   ]
  },
  {
   "cell_type": "code",
   "execution_count": null,
   "id": "07523104-921f-45ef-8c6f-15420ac0b8a5",
   "metadata": {},
   "outputs": [],
   "source": [
    "file_hash=files_df.iloc[0,0]\n",
    "file_ext=str(files_df.iloc[0,1]).split(\".\")[-1]\n",
    "full_file_hash=file_hash +\".\"+file_ext\n",
    "print(full_file_hash)"
   ]
  },
  {
   "cell_type": "code",
   "execution_count": null,
   "id": "3804fcc4-df1b-40c9-a0ff-611f76500090",
   "metadata": {},
   "outputs": [],
   "source": [
    "local_path_downloade_file='./downloaded_file.dat'\n",
    "api.download_file(full_file_hash,local_path_downloade_file)"
   ]
  },
  {
   "cell_type": "markdown",
   "id": "50adfde4-6db3-4abf-a753-1ba4f53a1cec",
   "metadata": {},
   "source": [
    "### - Step 11 - Delete a file from project\n",
    "> To delete a file from a project use `delete_project_file` method with argument the hash (only) of the file to be removed   \n",
    "> Note: **You can delete from File System only files you uploaded and if not used in any other project**"
   ]
  },
  {
   "cell_type": "code",
   "execution_count": null,
   "id": "368f88ca-ee33-4e18-8209-0b9375984d16",
   "metadata": {},
   "outputs": [],
   "source": [
    "api.delete_project_file(\"54b56034096881366c52743ca922ad8194710830\")"
   ]
  }
 ],
 "metadata": {
  "kernelspec": {
   "display_name": "py10",
   "language": "python",
   "name": "py10"
  },
  "language_info": {
   "codemirror_mode": {
    "name": "ipython",
    "version": 3
   },
   "file_extension": ".py",
   "mimetype": "text/x-python",
   "name": "python",
   "nbconvert_exporter": "python",
   "pygments_lexer": "ipython3",
   "version": "3.10.6"
  }
 },
 "nbformat": 4,
 "nbformat_minor": 5
}
